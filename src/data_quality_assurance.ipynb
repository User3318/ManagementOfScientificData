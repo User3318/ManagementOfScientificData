{
 "cells": [
  {
   "metadata": {},
   "cell_type": "markdown",
   "source": [
    "# Data Quality Completeness Assurance\n",
    "\n",
    "Checking the raw datasets for Completeness\n"
   ],
   "id": "3ae38dfb042adcd7"
  },
  {
   "metadata": {},
   "cell_type": "markdown",
   "source": "# Import Dependencies",
   "id": "3936641322d78a73"
  },
  {
   "metadata": {
    "ExecuteTime": {
     "end_time": "2024-07-24T09:31:51.801339Z",
     "start_time": "2024-07-24T09:31:51.799001Z"
    }
   },
   "cell_type": "code",
   "source": "import pandas as pd",
   "id": "initial_id",
   "outputs": [],
   "execution_count": 96
  },
  {
   "metadata": {},
   "cell_type": "markdown",
   "source": [
    "Load raw data\n",
    "covid_testcases_and_deaths_in_eu_2020_to_2023.csv contains data on death/test cases of each eu-countries from 2020 to 2023.\n",
    "prc_ppp_in_eu_2012_to_2023.csv contains data on local-adjusted gdp of each eu-countries from 2012 to 2023"
   ],
   "id": "df74ee1c22771df6"
  },
  {
   "metadata": {
    "ExecuteTime": {
     "end_time": "2024-07-24T09:31:51.827081Z",
     "start_time": "2024-07-24T09:31:51.803220Z"
    }
   },
   "cell_type": "code",
   "source": [
    "filepath_to_unprocessed_data = '../data/raw_data/'\n",
    "covid_filename = 'covid_testcases_and_deaths_in_eu_2020_to_2023.csv'\n",
    "pps_filename = 'prc_ppp_in_eu_2012_to_2023.csv'\n",
    "\n",
    "covid_data = pd.read_csv(filepath_to_unprocessed_data + covid_filename)\n",
    "pps_data = pd.read_csv(filepath_to_unprocessed_data + pps_filename)"
   ],
   "id": "a8352bdccbd092f3",
   "outputs": [],
   "execution_count": 97
  },
  {
   "metadata": {},
   "cell_type": "markdown",
   "source": "# Check Covid-dataset for Completeness",
   "id": "c2bb72ca3c07e77c"
  },
  {
   "metadata": {
    "ExecuteTime": {
     "end_time": "2024-07-24T09:31:51.835121Z",
     "start_time": "2024-07-24T09:31:51.828543Z"
    }
   },
   "cell_type": "code",
   "source": [
    "covid_nan_rows = covid_data.loc[:, covid_data.columns!='note'].isna().any(axis=1) # subtract note column with null as valid entry\n",
    "covid_nan_row_count = covid_nan_rows.sum()\n",
    "covid_total_entry_count = len(covid_data.index)\n",
    "\n",
    "covid_data_completeness = 1 - (covid_nan_row_count/covid_total_entry_count)\n",
    "\n",
    "print(f\"Covid Dataset Completeness: {covid_data_completeness * 100:.2f}%\")"
   ],
   "id": "5fbf955905ade50f",
   "outputs": [
    {
     "name": "stdout",
     "output_type": "stream",
     "text": [
      "Covid Dataset Completeness: 89.16%\n"
     ]
    }
   ],
   "execution_count": 98
  },
  {
   "metadata": {},
   "cell_type": "markdown",
   "source": "# Check PPS-dataset for Completeness",
   "id": "7575540a691bf31a"
  },
  {
   "metadata": {
    "ExecuteTime": {
     "end_time": "2024-07-24T09:31:51.844641Z",
     "start_time": "2024-07-24T09:31:51.836544Z"
    }
   },
   "cell_type": "code",
   "source": [
    "pps_nan_rows = pps_data.loc[:, pps_data.columns!='OBS_FLAG'].isna().any(axis=1) # subtract obs flag column with null as valid entry\n",
    "pps_nan_row_count = pps_nan_rows.sum()\n",
    "pps_total_entry_count = len(pps_data.index)\n",
    "\n",
    "pps_data_completeness = 1 - (pps_nan_row_count/pps_total_entry_count)\n",
    "\n",
    "print(f\"PPS Dataset Completeness: {pps_data_completeness * 100:.2f}%\")"
   ],
   "id": "87eb69253d4d6782",
   "outputs": [
    {
     "name": "stdout",
     "output_type": "stream",
     "text": [
      "PPS Dataset Completeness: 100.00%\n"
     ]
    }
   ],
   "execution_count": 99
  }
 ],
 "metadata": {
  "kernelspec": {
   "display_name": "Python 3",
   "language": "python",
   "name": "python3"
  },
  "language_info": {
   "codemirror_mode": {
    "name": "ipython",
    "version": 2
   },
   "file_extension": ".py",
   "mimetype": "text/x-python",
   "name": "python",
   "nbconvert_exporter": "python",
   "pygments_lexer": "ipython2",
   "version": "2.7.6"
  }
 },
 "nbformat": 4,
 "nbformat_minor": 5
}
