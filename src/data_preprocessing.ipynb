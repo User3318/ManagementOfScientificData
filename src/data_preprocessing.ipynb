{
 "cells": [
  {
   "metadata": {},
   "cell_type": "markdown",
   "source": [
    "# Data Preprocessing\n",
    "\n",
    "Preprocessing consists of several steps:\n",
    "- Loading csv-files with pandas\n",
    "- separate testcases and deaths\n",
    "- Remove entries with NaN/Empty Cells\n",
    "- Remove irrelevant rows and columns\n",
    "- Split year-month column into year and month column\n",
    "- Adjust Geo-Isocode (Use 2 Letter ISO)\n",
    "- Save cleaned csv-files"
   ],
   "id": "74d773896e8ad31"
  },
  {
   "metadata": {},
   "cell_type": "markdown",
   "source": "# Import Dependencies",
   "id": "8c8410ab26617d99"
  },
  {
   "metadata": {
    "ExecuteTime": {
     "end_time": "2024-07-24T10:06:41.880815Z",
     "start_time": "2024-07-24T10:06:41.878687Z"
    }
   },
   "cell_type": "code",
   "source": "import pandas as pd",
   "id": "f00de86325de7866",
   "outputs": [],
   "execution_count": 15
  },
  {
   "metadata": {},
   "cell_type": "markdown",
   "source": [
    "# Load raw data\n",
    "covid_testcases_and_deaths_in_eu_2020_to_2023.csv contains data on death/test cases of each eu-countries from 2020 to 2023.\n",
    "\n",
    "prc_ppp_in_eu_2012_to_2023.csv contains data on local-adjusted gdp of each eu-countries from 2012 to 2023"
   ],
   "id": "11ed6656a90cb179"
  },
  {
   "metadata": {
    "ExecuteTime": {
     "end_time": "2024-07-24T10:06:41.913597Z",
     "start_time": "2024-07-24T10:06:41.893646Z"
    }
   },
   "cell_type": "code",
   "source": [
    "filepath_to_unprocessed_data = '../data/raw_data/'\n",
    "covid_filename = 'covid_testcases_and_deaths_in_eu_2020_to_2023.csv'\n",
    "pps_filename = 'prc_ppp_in_eu_2012_to_2023.csv'\n",
    "\n",
    "covid_data = pd.read_csv(filepath_to_unprocessed_data + covid_filename)\n",
    "pps_data = pd.read_csv(filepath_to_unprocessed_data + pps_filename)"
   ],
   "id": "203ad9f45bd40160",
   "outputs": [],
   "execution_count": 16
  },
  {
   "metadata": {},
   "cell_type": "markdown",
   "source": [
    "# Preprocess covid death/test-cases file\n",
    "\n",
    "split year_week column into year and week column\n",
    "\n",
    "select only relevant columns\n",
    "\n",
    "convert 3 letter iso to 2 letter iso country code."
   ],
   "id": "3d28d4ae1d8048c6"
  },
  {
   "metadata": {
    "ExecuteTime": {
     "end_time": "2024-07-24T10:06:41.941589Z",
     "start_time": "2024-07-24T10:06:41.914929Z"
    }
   },
   "cell_type": "code",
   "source": [
    "covid_data[['year', 'week']] = covid_data['year_week'].str.split('-', n=1, expand=True)\n",
    "covid_data['year'] = pd.to_numeric(covid_data['year'])\n",
    "covid_data['week'] = pd.to_numeric(covid_data['week'])\n",
    "\n",
    "covid_data = covid_data[['country_code', 'year', 'week', 'rate_14_day', 'indicator']]\n",
    "\n",
    "country_iso_code_dict = {'AUT':'AT','BEL':'BE','BGR':'BG','HRV':'HR','CYP':'CY','DNK':'DK','EST':'EE','FIN':'FI','FRA':'FR',\n",
    "                         'DEU':'DE','GRC':'GR','HUN':'HU','IRL':'IE','ITA':'IT','LVA':'LV','LTU':'LT','LUX':'LU','MLT':'MT',\n",
    "                         'NLD':'NL','POL':'PL','PRT':'PT','ROU':'RO','SVK':'SK','SVN':'SI','ESP':'ES','SWE':'SE','GBR':'GB'}\n",
    "covid_data = covid_data[covid_data['country_code'].isin(country_iso_code_dict.keys())] # remove unknown countries etc\n",
    "covid_data['country_code'] = covid_data['country_code'].map(country_iso_code_dict)"
   ],
   "id": "f2b373a70e1fe1a7",
   "outputs": [],
   "execution_count": 17
  },
  {
   "metadata": {},
   "cell_type": "markdown",
   "source": [
    "# Split covid death/test-cases file\n",
    "\n",
    "split covid data into death and case data\n",
    "\n",
    "remove nan values"
   ],
   "id": "d42bf40051b595c0"
  },
  {
   "metadata": {
    "ExecuteTime": {
     "end_time": "2024-07-24T10:06:41.958922Z",
     "start_time": "2024-07-24T10:06:41.942325Z"
    }
   },
   "cell_type": "code",
   "source": [
    "covid_deaths_data = covid_data[covid_data['indicator'] == 'deaths'].copy()\n",
    "covid_deaths_data.drop(columns=['indicator'], inplace=True)\n",
    "covid_deaths_data.dropna(inplace=True)\n",
    "print(covid_deaths_data)\n",
    "\n",
    "covid_cases_data = covid_data[covid_data['indicator'] == 'cases'].copy()\n",
    "covid_cases_data.drop(columns=['indicator'], inplace=True)\n",
    "covid_cases_data.dropna(inplace=True)\n",
    "print(covid_cases_data)\n"
   ],
   "id": "597335bfcfcfa861",
   "outputs": [
    {
     "name": "stdout",
     "output_type": "stream",
     "text": [
      "      country_code  year  week  rate_14_day\n",
      "213             AT  2020    10     0.000000\n",
      "214             AT  2020    11     0.222744\n",
      "215             AT  2020    12     3.563899\n",
      "216             AT  2020    13    14.589713\n",
      "217             AT  2020    14    25.281412\n",
      "...            ...   ...   ...          ...\n",
      "12643           SE  2023    43    13.298475\n",
      "12644           SE  2023    44    17.986427\n",
      "12645           SE  2023    45    25.640226\n",
      "12646           SE  2023    46    31.284903\n",
      "12647           SE  2023    47    15.403270\n",
      "\n",
      "[4873 rows x 4 columns]\n",
      "      country_code  year  week  rate_14_day\n",
      "9               AT  2020    10     1.414423\n",
      "10              AT  2020    11    11.014677\n",
      "11              AT  2020    12    43.657768\n",
      "12              AT  2020    13    90.701241\n",
      "13              AT  2020    14    91.458569\n",
      "...            ...   ...   ...          ...\n",
      "12439           SE  2023    43    31.361441\n",
      "12440           SE  2023    44    45.176547\n",
      "12441           SE  2023    45    59.824005\n",
      "12442           SE  2023    46    65.698295\n",
      "12443           SE  2023    47    63.392588\n",
      "\n",
      "[4996 rows x 4 columns]\n"
     ]
    }
   ],
   "execution_count": 18
  },
  {
   "metadata": {},
   "cell_type": "markdown",
   "source": [
    "# Preprocess ppp/pps file\n",
    "\n",
    "select only relevant columns\n",
    "\n",
    "rename column names to match covid dataset column names"
   ],
   "id": "471b0d219a902be4"
  },
  {
   "metadata": {
    "ExecuteTime": {
     "end_time": "2024-07-24T10:06:41.965747Z",
     "start_time": "2024-07-24T10:06:41.960242Z"
    }
   },
   "cell_type": "code",
   "source": [
    "pps_data = pps_data[['geo', 'TIME_PERIOD', 'OBS_VALUE']]\n",
    "pps_data.rename(columns={'geo': 'country_code', 'TIME_PERIOD': 'year', 'OBS_VALUE':'pps'}, inplace=True)\n",
    "\n",
    "print(pps_data)"
   ],
   "id": "9c276f04f27d28d7",
   "outputs": [
    {
     "name": "stdout",
     "output_type": "stream",
     "text": [
      "    country_code  year  pps\n",
      "0             AL  2012   30\n",
      "1             AL  2013   29\n",
      "2             AL  2014   30\n",
      "3             AL  2015   30\n",
      "4             AL  2016   30\n",
      "..           ...   ...  ...\n",
      "496           US  2018  140\n",
      "497           US  2019  134\n",
      "498           US  2020  135\n",
      "499           US  2021  135\n",
      "500           US  2022  134\n",
      "\n",
      "[501 rows x 3 columns]\n"
     ]
    }
   ],
   "execution_count": 19
  },
  {
   "metadata": {},
   "cell_type": "markdown",
   "source": [
    "# Merge files\n",
    "\n",
    "join datasets by year and country"
   ],
   "id": "21d3f5a5bdae2c4d"
  },
  {
   "metadata": {
    "ExecuteTime": {
     "end_time": "2024-07-24T10:06:41.983918Z",
     "start_time": "2024-07-24T10:06:41.966705Z"
    }
   },
   "cell_type": "code",
   "source": [
    "combined_cases_data = pd.merge(covid_cases_data, pps_data, on=['country_code', 'year'], how='inner')\n",
    "combined_death_data = pd.merge(covid_deaths_data, pps_data, on=['country_code', 'year'], how='inner')\n",
    "print(combined_death_data)\n",
    "print(combined_cases_data)"
   ],
   "id": "e40bd90208ed88a2",
   "outputs": [
    {
     "name": "stdout",
     "output_type": "stream",
     "text": [
      "     country_code  year  week  rate_14_day  pps\n",
      "0              AT  2020    10     0.000000  125\n",
      "1              AT  2020    11     0.222744  125\n",
      "2              AT  2020    12     3.563899  125\n",
      "3              AT  2020    13    14.589713  125\n",
      "4              AT  2020    14    25.281412  125\n",
      "...           ...   ...   ...          ...  ...\n",
      "4665           SE  2023    43    13.298475  114\n",
      "4666           SE  2023    44    17.986427  114\n",
      "4667           SE  2023    45    25.640226  114\n",
      "4668           SE  2023    46    31.284903  114\n",
      "4669           SE  2023    47    15.403270  114\n",
      "\n",
      "[4670 rows x 5 columns]\n",
      "     country_code  year  week  rate_14_day  pps\n",
      "0              AT  2020    10     1.414423  125\n",
      "1              AT  2020    11    11.014677  125\n",
      "2              AT  2020    12    43.657768  125\n",
      "3              AT  2020    13    90.701241  125\n",
      "4              AT  2020    14    91.458569  125\n",
      "...           ...   ...   ...          ...  ...\n",
      "4788           SE  2023    43    31.361441  114\n",
      "4789           SE  2023    44    45.176547  114\n",
      "4790           SE  2023    45    59.824005  114\n",
      "4791           SE  2023    46    65.698295  114\n",
      "4792           SE  2023    47    63.392588  114\n",
      "\n",
      "[4793 rows x 5 columns]\n"
     ]
    }
   ],
   "execution_count": 20
  },
  {
   "metadata": {},
   "cell_type": "markdown",
   "source": "# Save files",
   "id": "3d89e2033ccf1fc2"
  },
  {
   "metadata": {
    "ExecuteTime": {
     "end_time": "2024-07-24T10:06:42.020104Z",
     "start_time": "2024-07-24T10:06:41.984895Z"
    }
   },
   "cell_type": "code",
   "source": [
    "filepath_to_processed_data = '../data/processed_data/'\n",
    "\n",
    "pps_data.to_csv(filepath_to_processed_data + \"processed_pps_in_eu_2012_to_2023.csv\", index=False)\n",
    "covid_deaths_data.to_csv(filepath_to_processed_data + \"processed_covid_deaths_in_eu_2020_to_2023.csv\", index=False)\n",
    "covid_cases_data.to_csv(filepath_to_processed_data + \"processed_covid_cases_in_eu_2020_to_2023.csv\", index=False)\n",
    "combined_cases_data.to_csv(filepath_to_processed_data + \"processed_combined_covid_cases_and_pps_in_eu_2020_to_2023.csv\", index=False)\n",
    "combined_death_data.to_csv(filepath_to_processed_data + \"processed_combined_covid_deaths_and_pps_in_eu_2020_to_2023.csv\", index=False)"
   ],
   "id": "a556e90b9f50cab",
   "outputs": [],
   "execution_count": 21
  }
 ],
 "metadata": {
  "kernelspec": {
   "display_name": "Python 3",
   "language": "python",
   "name": "python3"
  },
  "language_info": {
   "codemirror_mode": {
    "name": "ipython",
    "version": 2
   },
   "file_extension": ".py",
   "mimetype": "text/x-python",
   "name": "python",
   "nbconvert_exporter": "python",
   "pygments_lexer": "ipython2",
   "version": "2.7.6"
  }
 },
 "nbformat": 4,
 "nbformat_minor": 5
}
