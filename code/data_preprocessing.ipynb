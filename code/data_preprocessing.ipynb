{
 "cells": [
  {
   "metadata": {},
   "cell_type": "markdown",
   "source": [
    "# Data Preprocessing\n",
    "\n",
    "Preprocessing consists of several steps:\n",
    "- Loading csv-files with pandas\n",
    "- separate testcases and deaths\n",
    "- Remove entries with NaN/Empty Cells\n",
    "- Remove irrelevant rows and columns\n",
    "- Split year-month column into year and month column\n",
    "- Adjust Geo-Isocode (Use 2 Letter ISO)\n",
    "- Save cleaned csv-files"
   ],
   "id": "74d773896e8ad31"
  },
  {
   "metadata": {},
   "cell_type": "markdown",
   "source": "# Import Dependencies",
   "id": "8c8410ab26617d99"
  },
  {
   "metadata": {
    "ExecuteTime": {
     "end_time": "2024-07-15T15:07:00.052512Z",
     "start_time": "2024-07-15T15:07:00.050037Z"
    }
   },
   "cell_type": "code",
   "source": "import pandas as pd",
   "id": "f00de86325de7866",
   "outputs": [],
   "execution_count": 100
  },
  {
   "metadata": {},
   "cell_type": "markdown",
   "source": [
    "# Load raw data\n",
    "covid_data contains data on death/test cases of each eu-countries from 2020 to 2023.\n",
    "\n",
    "pps_data contains data on local-adjusted gdp of each eu-countries from 2012 to 2023"
   ],
   "id": "11ed6656a90cb179"
  },
  {
   "metadata": {
    "ExecuteTime": {
     "end_time": "2024-07-15T15:07:00.110684Z",
     "start_time": "2024-07-15T15:07:00.082707Z"
    }
   },
   "cell_type": "code",
   "source": [
    "filepath_to_unprocessed_data = '../data/unprocessed_data/'\n",
    "covid_filename = 'covid_testcases_and_deaths_in_eu_2020_to_2023.csv'\n",
    "pps_filename = 'cost_adjusted_gdp(ppp)_eu_2012_to_2023.csv'\n",
    "\n",
    "covid_data = pd.read_csv(filepath_to_unprocessed_data + covid_filename)\n",
    "pps_data = pd.read_csv(filepath_to_unprocessed_data + pps_filename)"
   ],
   "id": "203ad9f45bd40160",
   "outputs": [],
   "execution_count": 101
  },
  {
   "metadata": {},
   "cell_type": "markdown",
   "source": [
    "# Preprocess covid death/test-cases file\n",
    "\n",
    "split year_week column into year and week column\n",
    "\n",
    "select only relevant columns\n",
    "\n",
    "convert 3 letter iso to 2 letter iso country code."
   ],
   "id": "3d28d4ae1d8048c6"
  },
  {
   "metadata": {
    "ExecuteTime": {
     "end_time": "2024-07-15T15:07:00.147360Z",
     "start_time": "2024-07-15T15:07:00.112083Z"
    }
   },
   "cell_type": "code",
   "source": [
    "covid_data[['year', 'week']] = covid_data['year_week'].str.split('-', n=1, expand=True)\n",
    "covid_data['year'] = pd.to_numeric(covid_data['year'])\n",
    "covid_data['week'] = pd.to_numeric(covid_data['week'])\n",
    "\n",
    "covid_data = covid_data[['country', 'country_code', 'year', 'week', 'year_week', 'rate_14_day', 'indicator']]\n",
    "\n",
    "country_iso_code_dict = {'AUT':'AT','BEL':'BE','BGR':'BG','HRV':'HR','CYP':'CY','DNK':'DK','EST':'EE','FIN':'FI','FRA':'FR',\n",
    "                         'DEU':'DE','GRC':'GR','HUN':'HU','IRL':'IE','ITA':'IT','LVA':'LV','LTU':'LT','LUX':'LU','MLT':'MT',\n",
    "                         'NLD':'NL','POL':'PL','PRT':'PT','ROU':'RO','SVK':'SK','SVN':'SI','ESP':'ES','SWE':'SE','GBR':'GB'}\n",
    "covid_data = covid_data[covid_data['country_code'].isin(country_iso_code_dict.keys())] # remove unknown countries etc\n",
    "covid_data['country_code'] = covid_data['country_code'].map(country_iso_code_dict)"
   ],
   "id": "f2b373a70e1fe1a7",
   "outputs": [],
   "execution_count": 102
  },
  {
   "metadata": {},
   "cell_type": "markdown",
   "source": [
    "# Split covid death/test-cases file\n",
    "\n",
    "split covid data into death and case data\n",
    "\n",
    "remove nan values"
   ],
   "id": "d42bf40051b595c0"
  },
  {
   "metadata": {
    "ExecuteTime": {
     "end_time": "2024-07-15T15:07:00.175229Z",
     "start_time": "2024-07-15T15:07:00.148578Z"
    }
   },
   "cell_type": "code",
   "source": [
    "covid_deaths_data = covid_data[covid_data['indicator'] == 'deaths'].copy()\n",
    "covid_deaths_data.drop(columns=['indicator'], inplace=True)\n",
    "covid_deaths_data.dropna(inplace=True)\n",
    "print(covid_deaths_data)\n",
    "\n",
    "covid_cases_data = covid_data[covid_data['indicator'] == 'cases'].copy()\n",
    "covid_cases_data.drop(columns=['indicator'], inplace=True)\n",
    "covid_cases_data.dropna(inplace=True)\n",
    "print(covid_cases_data)\n"
   ],
   "id": "597335bfcfcfa861",
   "outputs": [
    {
     "name": "stdout",
     "output_type": "stream",
     "text": [
      "       country country_code  year  week year_week  rate_14_day\n",
      "213    Austria           AT  2020    10   2020-10     0.000000\n",
      "214    Austria           AT  2020    11   2020-11     0.222744\n",
      "215    Austria           AT  2020    12   2020-12     3.563899\n",
      "216    Austria           AT  2020    13   2020-13    14.589713\n",
      "217    Austria           AT  2020    14   2020-14    25.281412\n",
      "...        ...          ...   ...   ...       ...          ...\n",
      "12643   Sweden           SE  2023    43   2023-43    13.298475\n",
      "12644   Sweden           SE  2023    44   2023-44    17.986427\n",
      "12645   Sweden           SE  2023    45   2023-45    25.640226\n",
      "12646   Sweden           SE  2023    46   2023-46    31.284903\n",
      "12647   Sweden           SE  2023    47   2023-47    15.403270\n",
      "\n",
      "[4873 rows x 6 columns]\n",
      "       country country_code  year  week year_week  rate_14_day\n",
      "9      Austria           AT  2020    10   2020-10     1.414423\n",
      "10     Austria           AT  2020    11   2020-11    11.014677\n",
      "11     Austria           AT  2020    12   2020-12    43.657768\n",
      "12     Austria           AT  2020    13   2020-13    90.701241\n",
      "13     Austria           AT  2020    14   2020-14    91.458569\n",
      "...        ...          ...   ...   ...       ...          ...\n",
      "12439   Sweden           SE  2023    43   2023-43    31.361441\n",
      "12440   Sweden           SE  2023    44   2023-44    45.176547\n",
      "12441   Sweden           SE  2023    45   2023-45    59.824005\n",
      "12442   Sweden           SE  2023    46   2023-46    65.698295\n",
      "12443   Sweden           SE  2023    47   2023-47    63.392588\n",
      "\n",
      "[4996 rows x 6 columns]\n"
     ]
    }
   ],
   "execution_count": 103
  },
  {
   "metadata": {},
   "cell_type": "markdown",
   "source": [
    "# Preprocess gdp file\n",
    "\n",
    "select only relevant columns\n",
    "\n",
    "rename column names to match covid dataset column names"
   ],
   "id": "471b0d219a902be4"
  },
  {
   "metadata": {
    "ExecuteTime": {
     "end_time": "2024-07-15T15:07:00.182324Z",
     "start_time": "2024-07-15T15:07:00.177055Z"
    }
   },
   "cell_type": "code",
   "source": [
    "pps_data = pps_data[['geo', 'TIME_PERIOD', 'OBS_VALUE']]\n",
    "pps_data.rename(columns={'geo': 'country_code', 'TIME_PERIOD': 'year', 'OBS_VALUE':'pps'}, inplace=True)\n",
    "\n",
    "print(pps_data)"
   ],
   "id": "9c276f04f27d28d7",
   "outputs": [
    {
     "name": "stdout",
     "output_type": "stream",
     "text": [
      "    country_code  year  pps\n",
      "0             AL  2012   30\n",
      "1             AL  2013   29\n",
      "2             AL  2014   30\n",
      "3             AL  2015   30\n",
      "4             AL  2016   30\n",
      "..           ...   ...  ...\n",
      "496           US  2018  140\n",
      "497           US  2019  134\n",
      "498           US  2020  135\n",
      "499           US  2021  135\n",
      "500           US  2022  134\n",
      "\n",
      "[501 rows x 3 columns]\n"
     ]
    }
   ],
   "execution_count": 104
  },
  {
   "metadata": {},
   "cell_type": "markdown",
   "source": [
    "# Merge files\n",
    "\n",
    "join datasets by year and country"
   ],
   "id": "21d3f5a5bdae2c4d"
  },
  {
   "metadata": {
    "ExecuteTime": {
     "end_time": "2024-07-15T15:07:00.199394Z",
     "start_time": "2024-07-15T15:07:00.183255Z"
    }
   },
   "cell_type": "code",
   "source": [
    "combined_cases_data = pd.merge(covid_cases_data, pps_data, on=['country_code', 'year'], how='inner')\n",
    "combined_death_data = pd.merge(covid_deaths_data, pps_data, on=['country_code', 'year'], how='inner')\n",
    "combined_covid_data = pd.merge(covid_data, pps_data, on=['country_code', 'year'], how='inner')"
   ],
   "id": "e40bd90208ed88a2",
   "outputs": [],
   "execution_count": 105
  },
  {
   "metadata": {},
   "cell_type": "markdown",
   "source": "# Save files",
   "id": "3d89e2033ccf1fc2"
  },
  {
   "metadata": {
    "ExecuteTime": {
     "end_time": "2024-07-15T15:07:00.269865Z",
     "start_time": "2024-07-15T15:07:00.200337Z"
    }
   },
   "cell_type": "code",
   "source": [
    "filepath_to_processed_data = '../data/processed_data/'\n",
    "\n",
    "pps_data.to_csv(filepath_to_processed_data + \"pps_data.csv\", index=False)\n",
    "covid_deaths_data.to_csv(filepath_to_processed_data + \"covid_deaths_data.csv\", index=False)\n",
    "covid_cases_data.to_csv(filepath_to_processed_data + \"covid_cases_data.csv\", index=False)\n",
    "combined_covid_data.to_csv(filepath_to_processed_data + \"combined_covid_data.csv\", index=False)\n",
    "combined_cases_data.to_csv(filepath_to_processed_data + \"combined_cases_data.csv\", index=False)\n",
    "combined_death_data.to_csv(filepath_to_processed_data + \"combined_death_data.csv\", index=False)"
   ],
   "id": "a556e90b9f50cab",
   "outputs": [],
   "execution_count": 106
  }
 ],
 "metadata": {
  "kernelspec": {
   "display_name": "Python 3",
   "language": "python",
   "name": "python3"
  },
  "language_info": {
   "codemirror_mode": {
    "name": "ipython",
    "version": 2
   },
   "file_extension": ".py",
   "mimetype": "text/x-python",
   "name": "python",
   "nbconvert_exporter": "python",
   "pygments_lexer": "ipython2",
   "version": "2.7.6"
  }
 },
 "nbformat": 4,
 "nbformat_minor": 5
}
